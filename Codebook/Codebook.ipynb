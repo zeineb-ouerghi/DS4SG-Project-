{
 "cells": [
  {
   "cell_type": "markdown",
   "metadata": {
    "colab_type": "text",
    "id": "view-in-github"
   },
   "source": [
    "<a href=\"https://colab.research.google.com/github/Grandmaster12/DS4SG-Project-Sean/blob/main/Variables.ipynb\" target=\"_parent\"><img src=\"https://colab.research.google.com/assets/colab-badge.svg\" alt=\"Open In Colab\"/></a>"
   ]
  },
  {
   "cell_type": "markdown",
   "metadata": {},
   "source": [
    "# Codebook: Twitter Depression Dataset"
   ]
  },
  {
   "cell_type": "code",
   "execution_count": 63,
   "metadata": {
    "id": "cy_AZTLjGq2O"
   },
   "outputs": [],
   "source": [
    "#importing libraries \n",
    "import numpy as np \n",
    "import matplotlib as plt \n",
    "import pandas as pd \n",
    "import seaborn as sns"
   ]
  },
  {
   "cell_type": "code",
   "execution_count": 53,
   "metadata": {
    "colab": {
     "base_uri": "https://localhost:8080/",
     "height": 206
    },
    "id": "wSSj6GbaHE7M",
    "outputId": "10e35c26-8af1-4229-ae56-0576eac6833d"
   },
   "outputs": [
    {
     "data": {
      "text/html": [
       "<div>\n",
       "<style scoped>\n",
       "    .dataframe tbody tr th:only-of-type {\n",
       "        vertical-align: middle;\n",
       "    }\n",
       "\n",
       "    .dataframe tbody tr th {\n",
       "        vertical-align: top;\n",
       "    }\n",
       "\n",
       "    .dataframe thead th {\n",
       "        text-align: right;\n",
       "    }\n",
       "</style>\n",
       "<table border=\"1\" class=\"dataframe\">\n",
       "  <thead>\n",
       "    <tr style=\"text-align: right;\">\n",
       "      <th></th>\n",
       "      <th>post_text</th>\n",
       "      <th>post_created</th>\n",
       "      <th>user_id</th>\n",
       "      <th>followers</th>\n",
       "      <th>friends</th>\n",
       "      <th>favourites</th>\n",
       "      <th>statuses</th>\n",
       "      <th>retweets</th>\n",
       "      <th>label</th>\n",
       "    </tr>\n",
       "  </thead>\n",
       "  <tbody>\n",
       "    <tr>\n",
       "      <th>0</th>\n",
       "      <td>It's just over 2 years since I was diagnosed w...</td>\n",
       "      <td>Sun Aug 30 07:48:37 +0000 2015</td>\n",
       "      <td>1013187241</td>\n",
       "      <td>84</td>\n",
       "      <td>211</td>\n",
       "      <td>251</td>\n",
       "      <td>837</td>\n",
       "      <td>0</td>\n",
       "      <td>1</td>\n",
       "    </tr>\n",
       "    <tr>\n",
       "      <th>1</th>\n",
       "      <td>It's Sunday, I need a break, so I'm planning t...</td>\n",
       "      <td>Sun Aug 30 07:31:33 +0000 2015</td>\n",
       "      <td>1013187241</td>\n",
       "      <td>84</td>\n",
       "      <td>211</td>\n",
       "      <td>251</td>\n",
       "      <td>837</td>\n",
       "      <td>1</td>\n",
       "      <td>1</td>\n",
       "    </tr>\n",
       "    <tr>\n",
       "      <th>2</th>\n",
       "      <td>Awake but tired. I need to sleep but my brain ...</td>\n",
       "      <td>Sat Aug 29 22:11:07 +0000 2015</td>\n",
       "      <td>1013187241</td>\n",
       "      <td>84</td>\n",
       "      <td>211</td>\n",
       "      <td>251</td>\n",
       "      <td>837</td>\n",
       "      <td>0</td>\n",
       "      <td>1</td>\n",
       "    </tr>\n",
       "    <tr>\n",
       "      <th>3</th>\n",
       "      <td>RT @SewHQ: #Retro bears make perfect gifts and...</td>\n",
       "      <td>Sat Aug 29 18:40:49 +0000 2015</td>\n",
       "      <td>1013187241</td>\n",
       "      <td>84</td>\n",
       "      <td>211</td>\n",
       "      <td>251</td>\n",
       "      <td>837</td>\n",
       "      <td>2</td>\n",
       "      <td>1</td>\n",
       "    </tr>\n",
       "    <tr>\n",
       "      <th>4</th>\n",
       "      <td>It’s hard to say whether packing lists are mak...</td>\n",
       "      <td>Sat Aug 29 18:40:26 +0000 2015</td>\n",
       "      <td>1013187241</td>\n",
       "      <td>84</td>\n",
       "      <td>211</td>\n",
       "      <td>251</td>\n",
       "      <td>837</td>\n",
       "      <td>1</td>\n",
       "      <td>1</td>\n",
       "    </tr>\n",
       "  </tbody>\n",
       "</table>\n",
       "</div>"
      ],
      "text/plain": [
       "                                           post_text  \\\n",
       "0  It's just over 2 years since I was diagnosed w...   \n",
       "1  It's Sunday, I need a break, so I'm planning t...   \n",
       "2  Awake but tired. I need to sleep but my brain ...   \n",
       "3  RT @SewHQ: #Retro bears make perfect gifts and...   \n",
       "4  It’s hard to say whether packing lists are mak...   \n",
       "\n",
       "                     post_created     user_id  followers  friends  favourites  \\\n",
       "0  Sun Aug 30 07:48:37 +0000 2015  1013187241         84      211         251   \n",
       "1  Sun Aug 30 07:31:33 +0000 2015  1013187241         84      211         251   \n",
       "2  Sat Aug 29 22:11:07 +0000 2015  1013187241         84      211         251   \n",
       "3  Sat Aug 29 18:40:49 +0000 2015  1013187241         84      211         251   \n",
       "4  Sat Aug 29 18:40:26 +0000 2015  1013187241         84      211         251   \n",
       "\n",
       "   statuses  retweets  label  \n",
       "0       837         0      1  \n",
       "1       837         1      1  \n",
       "2       837         0      1  \n",
       "3       837         2      1  \n",
       "4       837         1      1  "
      ]
     },
     "execution_count": 53,
     "metadata": {},
     "output_type": "execute_result"
    }
   ],
   "source": [
    "#importing the data\n",
    "url = 'https://raw.githubusercontent.com/zeineb-ouerghi/DS4SG-Project-/main/Data/Mental-Health-Twitter.csv'\n",
    "raw = pd.read_csv(url)\n",
    "\n",
    "# drop the original column for index since df has index now\n",
    "raw.drop(\"Unnamed: 0\", axis=1, inplace=True)\n",
    "# drop post_id column since we won't need it for our analysis\n",
    "raw.drop('post_id', axis=1, inplace=True)\n",
    "\n",
    "# rearrange variable order\n",
    "post_created = raw['post_created']\n",
    "raw = raw.drop(columns=['post_created'])\n",
    "raw.insert(loc=1, column='post_created', value=post_created)\n",
    "raw.head()"
   ]
  },
  {
   "cell_type": "markdown",
   "metadata": {
    "id": "OAf_m8uiKTDF"
   },
   "source": [
    "## Variable information:"
   ]
  },
  {
   "cell_type": "code",
   "execution_count": 54,
   "metadata": {},
   "outputs": [
    {
     "data": {
      "text/plain": [
       "(20000, 9)"
      ]
     },
     "execution_count": 54,
     "metadata": {},
     "output_type": "execute_result"
    }
   ],
   "source": [
    "# checking the number of rows and variables\n",
    "raw.shape"
   ]
  },
  {
   "cell_type": "markdown",
   "metadata": {},
   "source": [
    "**post_text** : the post contents, stored as a string, gathered from the original tweets.  \n",
    "**post_created** : the date and time when the tweet was posted, stored as a string (we will convert the entire column to be in datetime format), taken from the tweets.   \n",
    "**user_id** : the ID of the user, stored as an integer, taken from the tweet information.  \n",
    "**followers**: the number of followers of the user, stored as an integer, taken from their profile.  \n",
    "**friends**: the number of the friends of the user, also stored as an integer, taken from their profiles.   \n",
    "**favourites**: the number of \"likes\" the post has, stored as an integer, taken from the tweet itself.  \n",
    "**statuses**: the number of total tweets they have, stored as an integer, taken from the users' profiles.  \n",
    "**retweets**: the number of retweets the post had, stored as an integer, also taken from the tweet data itself. \n",
    "**label**: whether the user has depression or not, stored as '0' or '1', where 0 is not depressed and 1 is depressed.  \n",
    "\n",
    "The number of null values will be explored in the next code cell. We have no null values in this dataset."
   ]
  },
  {
   "cell_type": "code",
   "execution_count": 55,
   "metadata": {
    "colab": {
     "base_uri": "https://localhost:8080/",
     "height": 394
    },
    "id": "GV73fs0om2tG",
    "outputId": "0641f3f7-4b45-4560-96bd-8d3d01dd0480"
   },
   "outputs": [
    {
     "data": {
      "text/html": [
       "<div>\n",
       "<style scoped>\n",
       "    .dataframe tbody tr th:only-of-type {\n",
       "        vertical-align: middle;\n",
       "    }\n",
       "\n",
       "    .dataframe tbody tr th {\n",
       "        vertical-align: top;\n",
       "    }\n",
       "\n",
       "    .dataframe thead th {\n",
       "        text-align: right;\n",
       "    }\n",
       "</style>\n",
       "<table border=\"1\" class=\"dataframe\">\n",
       "  <thead>\n",
       "    <tr style=\"text-align: right;\">\n",
       "      <th></th>\n",
       "      <th>Column</th>\n",
       "      <th>% null values</th>\n",
       "    </tr>\n",
       "  </thead>\n",
       "  <tbody>\n",
       "    <tr>\n",
       "      <th>0</th>\n",
       "      <td>post_text</td>\n",
       "      <td>0.0</td>\n",
       "    </tr>\n",
       "    <tr>\n",
       "      <th>1</th>\n",
       "      <td>post_created</td>\n",
       "      <td>0.0</td>\n",
       "    </tr>\n",
       "    <tr>\n",
       "      <th>2</th>\n",
       "      <td>user_id</td>\n",
       "      <td>0.0</td>\n",
       "    </tr>\n",
       "    <tr>\n",
       "      <th>3</th>\n",
       "      <td>followers</td>\n",
       "      <td>0.0</td>\n",
       "    </tr>\n",
       "    <tr>\n",
       "      <th>4</th>\n",
       "      <td>friends</td>\n",
       "      <td>0.0</td>\n",
       "    </tr>\n",
       "    <tr>\n",
       "      <th>5</th>\n",
       "      <td>favourites</td>\n",
       "      <td>0.0</td>\n",
       "    </tr>\n",
       "    <tr>\n",
       "      <th>6</th>\n",
       "      <td>statuses</td>\n",
       "      <td>0.0</td>\n",
       "    </tr>\n",
       "    <tr>\n",
       "      <th>7</th>\n",
       "      <td>retweets</td>\n",
       "      <td>0.0</td>\n",
       "    </tr>\n",
       "    <tr>\n",
       "      <th>8</th>\n",
       "      <td>label</td>\n",
       "      <td>0.0</td>\n",
       "    </tr>\n",
       "  </tbody>\n",
       "</table>\n",
       "</div>"
      ],
      "text/plain": [
       "         Column  % null values\n",
       "0     post_text            0.0\n",
       "1  post_created            0.0\n",
       "2       user_id            0.0\n",
       "3     followers            0.0\n",
       "4       friends            0.0\n",
       "5    favourites            0.0\n",
       "6      statuses            0.0\n",
       "7      retweets            0.0\n",
       "8         label            0.0"
      ]
     },
     "metadata": {},
     "output_type": "display_data"
    }
   ],
   "source": [
    "# checking the proportion of null-values in each column\n",
    "percent_null = [(i, raw[i].isnull().mean()) for i in raw]\n",
    "percents = pd.DataFrame(percent_null, columns=(\"Column\", \"% null values\"))\n",
    "display(percents)"
   ]
  },
  {
   "cell_type": "code",
   "execution_count": 56,
   "metadata": {
    "colab": {
     "base_uri": "https://localhost:8080/"
    },
    "id": "zr0Ok0qnItaM",
    "outputId": "2be8bbe2-63de-420a-b25d-8d1ba4dfb986"
   },
   "outputs": [
    {
     "name": "stdout",
     "output_type": "stream",
     "text": [
      "<class 'pandas.core.frame.DataFrame'>\n",
      "RangeIndex: 20000 entries, 0 to 19999\n",
      "Data columns (total 9 columns):\n",
      " #   Column        Non-Null Count  Dtype \n",
      "---  ------        --------------  ----- \n",
      " 0   post_text     20000 non-null  object\n",
      " 1   post_created  20000 non-null  object\n",
      " 2   user_id       20000 non-null  int64 \n",
      " 3   followers     20000 non-null  int64 \n",
      " 4   friends       20000 non-null  int64 \n",
      " 5   favourites    20000 non-null  int64 \n",
      " 6   statuses      20000 non-null  int64 \n",
      " 7   retweets      20000 non-null  int64 \n",
      " 8   label         20000 non-null  int64 \n",
      "dtypes: int64(7), object(2)\n",
      "memory usage: 1.4+ MB\n"
     ]
    }
   ],
   "source": [
    "# data information\n",
    "raw.info()"
   ]
  },
  {
   "cell_type": "markdown",
   "metadata": {},
   "source": [
    "All variables except post_created and post_text are in integer format. In the following code cell, we will convert the post_created variable to datatime format and only keep the date (excluding timestamp)."
   ]
  },
  {
   "cell_type": "code",
   "execution_count": 57,
   "metadata": {},
   "outputs": [],
   "source": [
    "raw['post_created'] = pd.to_datetime(raw['post_created']).dt.strftime('%m/%d/%Y')"
   ]
  },
  {
   "cell_type": "code",
   "execution_count": 59,
   "metadata": {
    "colab": {
     "base_uri": "https://localhost:8080/",
     "height": 300
    },
    "id": "SSCU146pIgY5",
    "outputId": "a9d2a515-ee19-4e14-fad5-e388c13e0683"
   },
   "outputs": [
    {
     "data": {
      "text/html": [
       "<div>\n",
       "<style scoped>\n",
       "    .dataframe tbody tr th:only-of-type {\n",
       "        vertical-align: middle;\n",
       "    }\n",
       "\n",
       "    .dataframe tbody tr th {\n",
       "        vertical-align: top;\n",
       "    }\n",
       "\n",
       "    .dataframe thead th {\n",
       "        text-align: right;\n",
       "    }\n",
       "</style>\n",
       "<table border=\"1\" class=\"dataframe\">\n",
       "  <thead>\n",
       "    <tr style=\"text-align: right;\">\n",
       "      <th></th>\n",
       "      <th>count</th>\n",
       "      <th>mean</th>\n",
       "      <th>std</th>\n",
       "      <th>min</th>\n",
       "      <th>25%</th>\n",
       "      <th>50%</th>\n",
       "      <th>75%</th>\n",
       "      <th>max</th>\n",
       "    </tr>\n",
       "  </thead>\n",
       "  <tbody>\n",
       "    <tr>\n",
       "      <th>user_id</th>\n",
       "      <td>20000.0</td>\n",
       "      <td>3.548623e+16</td>\n",
       "      <td>1.606083e+17</td>\n",
       "      <td>14724376.0</td>\n",
       "      <td>324294391.0</td>\n",
       "      <td>1.052122e+09</td>\n",
       "      <td>2.285923e+09</td>\n",
       "      <td>7.631825e+17</td>\n",
       "    </tr>\n",
       "    <tr>\n",
       "      <th>followers</th>\n",
       "      <td>20000.0</td>\n",
       "      <td>9.004840e+02</td>\n",
       "      <td>1.899914e+03</td>\n",
       "      <td>0.0</td>\n",
       "      <td>177.0</td>\n",
       "      <td>4.760000e+02</td>\n",
       "      <td>1.197000e+03</td>\n",
       "      <td>2.861400e+04</td>\n",
       "    </tr>\n",
       "    <tr>\n",
       "      <th>friends</th>\n",
       "      <td>20000.0</td>\n",
       "      <td>7.824288e+02</td>\n",
       "      <td>1.834818e+03</td>\n",
       "      <td>0.0</td>\n",
       "      <td>211.0</td>\n",
       "      <td>5.610000e+02</td>\n",
       "      <td>7.010000e+02</td>\n",
       "      <td>2.851400e+04</td>\n",
       "    </tr>\n",
       "    <tr>\n",
       "      <th>favourites</th>\n",
       "      <td>20000.0</td>\n",
       "      <td>6.398236e+03</td>\n",
       "      <td>8.393073e+03</td>\n",
       "      <td>0.0</td>\n",
       "      <td>243.0</td>\n",
       "      <td>2.752000e+03</td>\n",
       "      <td>8.229000e+03</td>\n",
       "      <td>3.900800e+04</td>\n",
       "    </tr>\n",
       "    <tr>\n",
       "      <th>statuses</th>\n",
       "      <td>20000.0</td>\n",
       "      <td>4.439442e+04</td>\n",
       "      <td>1.407785e+05</td>\n",
       "      <td>3.0</td>\n",
       "      <td>5129.0</td>\n",
       "      <td>1.325100e+04</td>\n",
       "      <td>5.289200e+04</td>\n",
       "      <td>1.063601e+06</td>\n",
       "    </tr>\n",
       "    <tr>\n",
       "      <th>retweets</th>\n",
       "      <td>20000.0</td>\n",
       "      <td>1.437927e+03</td>\n",
       "      <td>1.511967e+04</td>\n",
       "      <td>0.0</td>\n",
       "      <td>0.0</td>\n",
       "      <td>0.000000e+00</td>\n",
       "      <td>1.000000e+00</td>\n",
       "      <td>8.395400e+05</td>\n",
       "    </tr>\n",
       "    <tr>\n",
       "      <th>label</th>\n",
       "      <td>20000.0</td>\n",
       "      <td>5.000000e-01</td>\n",
       "      <td>5.000125e-01</td>\n",
       "      <td>0.0</td>\n",
       "      <td>0.0</td>\n",
       "      <td>5.000000e-01</td>\n",
       "      <td>1.000000e+00</td>\n",
       "      <td>1.000000e+00</td>\n",
       "    </tr>\n",
       "  </tbody>\n",
       "</table>\n",
       "</div>"
      ],
      "text/plain": [
       "              count          mean           std         min          25%  \\\n",
       "user_id     20000.0  3.548623e+16  1.606083e+17  14724376.0  324294391.0   \n",
       "followers   20000.0  9.004840e+02  1.899914e+03         0.0        177.0   \n",
       "friends     20000.0  7.824288e+02  1.834818e+03         0.0        211.0   \n",
       "favourites  20000.0  6.398236e+03  8.393073e+03         0.0        243.0   \n",
       "statuses    20000.0  4.439442e+04  1.407785e+05         3.0       5129.0   \n",
       "retweets    20000.0  1.437927e+03  1.511967e+04         0.0          0.0   \n",
       "label       20000.0  5.000000e-01  5.000125e-01         0.0          0.0   \n",
       "\n",
       "                     50%           75%           max  \n",
       "user_id     1.052122e+09  2.285923e+09  7.631825e+17  \n",
       "followers   4.760000e+02  1.197000e+03  2.861400e+04  \n",
       "friends     5.610000e+02  7.010000e+02  2.851400e+04  \n",
       "favourites  2.752000e+03  8.229000e+03  3.900800e+04  \n",
       "statuses    1.325100e+04  5.289200e+04  1.063601e+06  \n",
       "retweets    0.000000e+00  1.000000e+00  8.395400e+05  \n",
       "label       5.000000e-01  1.000000e+00  1.000000e+00  "
      ]
     },
     "execution_count": 59,
     "metadata": {},
     "output_type": "execute_result"
    }
   ],
   "source": [
    "#Description of the data \n",
    "raw.describe().T"
   ]
  },
  {
   "cell_type": "code",
   "execution_count": 61,
   "metadata": {},
   "outputs": [
    {
     "data": {
      "text/html": [
       "<div>\n",
       "<style scoped>\n",
       "    .dataframe tbody tr th:only-of-type {\n",
       "        vertical-align: middle;\n",
       "    }\n",
       "\n",
       "    .dataframe tbody tr th {\n",
       "        vertical-align: top;\n",
       "    }\n",
       "\n",
       "    .dataframe thead th {\n",
       "        text-align: right;\n",
       "    }\n",
       "</style>\n",
       "<table border=\"1\" class=\"dataframe\">\n",
       "  <thead>\n",
       "    <tr style=\"text-align: right;\">\n",
       "      <th></th>\n",
       "      <th>user_id</th>\n",
       "      <th>followers</th>\n",
       "      <th>friends</th>\n",
       "      <th>favourites</th>\n",
       "      <th>statuses</th>\n",
       "      <th>retweets</th>\n",
       "      <th>label</th>\n",
       "    </tr>\n",
       "  </thead>\n",
       "  <tbody>\n",
       "    <tr>\n",
       "      <th>user_id</th>\n",
       "      <td>1.000000</td>\n",
       "      <td>0.098022</td>\n",
       "      <td>-0.073787</td>\n",
       "      <td>-0.050215</td>\n",
       "      <td>-0.050672</td>\n",
       "      <td>-0.020921</td>\n",
       "      <td>-0.220954</td>\n",
       "    </tr>\n",
       "    <tr>\n",
       "      <th>followers</th>\n",
       "      <td>0.098022</td>\n",
       "      <td>1.000000</td>\n",
       "      <td>0.891919</td>\n",
       "      <td>-0.016242</td>\n",
       "      <td>-0.000215</td>\n",
       "      <td>0.001500</td>\n",
       "      <td>-0.011181</td>\n",
       "    </tr>\n",
       "    <tr>\n",
       "      <th>friends</th>\n",
       "      <td>-0.073787</td>\n",
       "      <td>0.891919</td>\n",
       "      <td>1.000000</td>\n",
       "      <td>-0.081756</td>\n",
       "      <td>-0.045420</td>\n",
       "      <td>0.009946</td>\n",
       "      <td>0.119818</td>\n",
       "    </tr>\n",
       "    <tr>\n",
       "      <th>favourites</th>\n",
       "      <td>-0.050215</td>\n",
       "      <td>-0.016242</td>\n",
       "      <td>-0.081756</td>\n",
       "      <td>1.000000</td>\n",
       "      <td>-0.053930</td>\n",
       "      <td>0.069551</td>\n",
       "      <td>-0.252289</td>\n",
       "    </tr>\n",
       "    <tr>\n",
       "      <th>statuses</th>\n",
       "      <td>-0.050672</td>\n",
       "      <td>-0.000215</td>\n",
       "      <td>-0.045420</td>\n",
       "      <td>-0.053930</td>\n",
       "      <td>1.000000</td>\n",
       "      <td>-0.005193</td>\n",
       "      <td>-0.246473</td>\n",
       "    </tr>\n",
       "    <tr>\n",
       "      <th>retweets</th>\n",
       "      <td>-0.020921</td>\n",
       "      <td>0.001500</td>\n",
       "      <td>0.009946</td>\n",
       "      <td>0.069551</td>\n",
       "      <td>-0.005193</td>\n",
       "      <td>1.000000</td>\n",
       "      <td>-0.025198</td>\n",
       "    </tr>\n",
       "    <tr>\n",
       "      <th>label</th>\n",
       "      <td>-0.220954</td>\n",
       "      <td>-0.011181</td>\n",
       "      <td>0.119818</td>\n",
       "      <td>-0.252289</td>\n",
       "      <td>-0.246473</td>\n",
       "      <td>-0.025198</td>\n",
       "      <td>1.000000</td>\n",
       "    </tr>\n",
       "  </tbody>\n",
       "</table>\n",
       "</div>"
      ],
      "text/plain": [
       "             user_id  followers   friends  favourites  statuses  retweets  \\\n",
       "user_id     1.000000   0.098022 -0.073787   -0.050215 -0.050672 -0.020921   \n",
       "followers   0.098022   1.000000  0.891919   -0.016242 -0.000215  0.001500   \n",
       "friends    -0.073787   0.891919  1.000000   -0.081756 -0.045420  0.009946   \n",
       "favourites -0.050215  -0.016242 -0.081756    1.000000 -0.053930  0.069551   \n",
       "statuses   -0.050672  -0.000215 -0.045420   -0.053930  1.000000 -0.005193   \n",
       "retweets   -0.020921   0.001500  0.009946    0.069551 -0.005193  1.000000   \n",
       "label      -0.220954  -0.011181  0.119818   -0.252289 -0.246473 -0.025198   \n",
       "\n",
       "               label  \n",
       "user_id    -0.220954  \n",
       "followers  -0.011181  \n",
       "friends     0.119818  \n",
       "favourites -0.252289  \n",
       "statuses   -0.246473  \n",
       "retweets   -0.025198  \n",
       "label       1.000000  "
      ]
     },
     "execution_count": 61,
     "metadata": {},
     "output_type": "execute_result"
    }
   ],
   "source": [
    "# correlation\n",
    "raw.corr()"
   ]
  },
  {
   "cell_type": "markdown",
   "metadata": {},
   "source": [
    "## The classes in our dataset are balanced"
   ]
  },
  {
   "cell_type": "code",
   "execution_count": 64,
   "metadata": {},
   "outputs": [
    {
     "data": {
      "text/plain": [
       "<AxesSubplot:xlabel='label', ylabel='count'>"
      ]
     },
     "execution_count": 64,
     "metadata": {},
     "output_type": "execute_result"
    },
    {
     "data": {
      "image/png": "[encoded data removed]",
      "text/plain": [
       "<Figure size 432x288 with 1 Axes>"
      ]
     },
     "metadata": {
      "needs_background": "light"
     },
     "output_type": "display_data"
    }
   ],
   "source": [
    "sns.countplot(data=raw,x=\"label\")"
   ]
  }
 ],
 "metadata": {
  "colab": {
   "include_colab_link": true,
   "provenance": []
  },
  "kernelspec": {
   "display_name": "Python 3",
   "language": "python",
   "name": "python3"
  },
  "language_info": {
   "codemirror_mode": {
    "name": "ipython",
    "version": 3
   },
   "file_extension": ".py",
   "mimetype": "text/x-python",
   "name": "python",
   "nbconvert_exporter": "python",
   "pygments_lexer": "ipython3",
   "version": "3.8.8"
  }
 },
 "nbformat": 4,
 "nbformat_minor": 1
}
